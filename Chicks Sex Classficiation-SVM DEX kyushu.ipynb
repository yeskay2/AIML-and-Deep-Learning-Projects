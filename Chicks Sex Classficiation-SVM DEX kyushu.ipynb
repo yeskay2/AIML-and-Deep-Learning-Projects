{
 "cells": [
  {
   "cell_type": "code",
   "execution_count": 6,
   "metadata": {},
   "outputs": [],
   "source": [
    "import os\n",
    "import numpy as np\n",
    "from sklearn import svm\n",
    "from sklearn.metrics import accuracy_score\n",
    "from skimage.io import imread, imshow\n",
    "from skimage.transform import resize\n",
    "\n",
    "train_male_path = r\"E:\\python files\\kyushu\\training\\kyushu_male_filter4 - Copy\"\n",
    "train_female_path = r\"E:\\python files\\kyushu\\training\\kyushu_female_filter4 - Copy\"\n",
    "test_male_path = r\"E:\\python files\\kyushu\\testing\\k_male\"\n",
    "test_female_path = r\"E:\\python files\\kyushu\\testing\\k_female\"\n",
    "\n",
    "# Function to load images and extract features\n",
    "def load_images_from_folder(folder):\n",
    "    images = []\n",
    "    for filename in os.listdir(folder):\n",
    "        img = imread(os.path.join(folder, filename))\n",
    "        if img is not None:\n",
    "            img = resize(img, (100, 100))  # Resize image to a fixed size\n",
    "            images.append(img.flatten())  # Flatten image into a 1D array\n",
    "    return images\n",
    "\n",
    "# Load train images\n",
    "train_male_images = load_images_from_folder(train_male_path)\n",
    "train_female_images = load_images_from_folder(train_female_path)\n",
    "\n",
    "# Load test images\n",
    "test_male_images = load_images_from_folder(test_male_path)\n",
    "test_female_images = load_images_from_folder(test_female_path)\n",
    "\n",
    "# Create labels for train and test images\n",
    "train_male_labels = np.zeros(len(train_male_images))\n",
    "train_female_labels = np.ones(len(train_female_images))\n",
    "\n",
    "test_male_labels = np.zeros(len(test_male_images))\n",
    "test_female_labels = np.ones(len(test_female_images))\n",
    "\n",
    "# Combine train and test images and labels\n",
    "train_images = np.concatenate((train_male_images, train_female_images))\n",
    "train_labels = np.concatenate((train_male_labels, train_female_labels))\n",
    "\n",
    "test_images = np.concatenate((test_male_images, test_female_images))\n",
    "test_labels = np.concatenate((test_male_labels, test_female_labels))\n",
    "\n",
    "# Create an SVM classifier\n",
    "clf = svm.SVC(kernel='linear')\n",
    "\n",
    "# Train the classifier\n",
    "clf.fit(train_images, train_labels)\n",
    "\n",
    "# Predict on the test set\n",
    "test_predictions = clf.predict(test_images)\n",
    "\n",
    "# Calculate accuracy\n",
    "accuracy = accuracy_score(test_labels, test_predictions)"
   ]
  },
  {
   "cell_type": "code",
   "execution_count": 5,
   "metadata": {},
   "outputs": [
    {
     "name": "stdout",
     "output_type": "stream",
     "text": [
      "Accuracy: 0.9976\n"
     ]
    }
   ],
   "source": [
    "print(\"Accuracy:\", accuracy)"
   ]
  }
 ],
 "metadata": {
  "kernelspec": {
   "display_name": "Python 3",
   "language": "python",
   "name": "python3"
  },
  "language_info": {
   "codemirror_mode": {
    "name": "ipython",
    "version": 3
   },
   "file_extension": ".py",
   "mimetype": "text/x-python",
   "name": "python",
   "nbconvert_exporter": "python",
   "pygments_lexer": "ipython3",
   "version": "3.10.11"
  },
  "orig_nbformat": 4
 },
 "nbformat": 4,
 "nbformat_minor": 2
}
