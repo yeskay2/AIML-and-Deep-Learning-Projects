{
  "cells": [
    {
      "cell_type": "code",
      "execution_count": 1,
      "metadata": {},
      "outputs": [],
      "source": [
        "import numpy as np"
      ]
    },
    {
      "cell_type": "code",
      "execution_count": 2,
      "metadata": {
        "colab": {
          "base_uri": "https://localhost:8080/"
        },
        "id": "0Ns6U7nMODk7",
        "outputId": "fbf8945e-4c0a-4b8c-ce48-3ecb5e5c5b0d"
      },
      "outputs": [
        {
          "name": "stdout",
          "output_type": "stream",
          "text": [
            "<class 'numpy.ndarray'>\n"
          ]
        }
      ],
      "source": [
        "x = np.array([1,22,3,4,4,5])\n",
        "y = np.array([1,22,3,4,4,5])\n",
        "x*y\n",
        "print(type(x))"
      ]
    },
    {
      "cell_type": "code",
      "execution_count": 3,
      "metadata": {},
      "outputs": [
        {
          "data": {
            "text/plain": [
              "array([[ 0,  1,  2,  3],\n",
              "       [ 4,  5,  6,  7],\n",
              "       [ 8,  9, 10, 11],\n",
              "       [12, 13, 14, 15],\n",
              "       [16, 17, 18, 19]])"
            ]
          },
          "execution_count": 3,
          "metadata": {},
          "output_type": "execute_result"
        }
      ],
      "source": [
        "a = np.arange(0,20)\n",
        "a.reshape(5,-1) # auto reshape"
      ]
    },
    {
      "cell_type": "code",
      "execution_count": 4,
      "metadata": {
        "colab": {
          "base_uri": "https://localhost:8080/"
        },
        "id": "IKXavaPeODk7",
        "outputId": "0dffe3f9-77cf-4fae-a44f-7cfc60732e65"
      },
      "outputs": [
        {
          "data": {
            "text/plain": [
              "array([5, 7, 9])"
            ]
          },
          "execution_count": 4,
          "metadata": {},
          "output_type": "execute_result"
        }
      ],
      "source": [
        "x = np.array([1,2,3])\n",
        "y = np.array([4,5,6]) # NumPy addition\n",
        "z = x+y\n",
        "z"
      ]
    },
    {
      "cell_type": "code",
      "execution_count": 5,
      "metadata": {
        "colab": {
          "base_uri": "https://localhost:8080/"
        },
        "id": "pWHyRlsDODk8",
        "outputId": "ea90e0a3-3125-4ddf-ceac-d18194a29e60"
      },
      "outputs": [
        {
          "data": {
            "text/plain": [
              "array([ 4, 10, 18])"
            ]
          },
          "execution_count": 5,
          "metadata": {},
          "output_type": "execute_result"
        }
      ],
      "source": [
        "x = np.array([1,2,3])\n",
        "y = np.array([4,5,6]) # NumPy products\n",
        "z = x*y\n",
        "z"
      ]
    },
    {
      "cell_type": "code",
      "execution_count": 6,
      "metadata": {
        "colab": {
          "base_uri": "https://localhost:8080/"
        },
        "id": "FoaSTvTFODk8",
        "outputId": "286877fd-e23d-4af1-ee66-50e943f7062d"
      },
      "outputs": [
        {
          "data": {
            "text/plain": [
              "array([ 8, 16, 24])"
            ]
          },
          "execution_count": 6,
          "metadata": {},
          "output_type": "execute_result"
        }
      ],
      "source": [
        "x = np.array([1,2,3]) #multiply each element\n",
        "x*8"
      ]
    },
    {
      "cell_type": "code",
      "execution_count": 7,
      "metadata": {},
      "outputs": [
        {
          "name": "stdout",
          "output_type": "stream",
          "text": [
            "[2. 4. 6.]\n"
          ]
        }
      ],
      "source": [
        "import numpy as np\n",
        "\n",
        "a = np.array([1.0, 2.0, 3.0])\n",
        "b = 2.0\n",
        "\n",
        "result = a * b  # NumPy broadcasts 'b' to match the shape of 'a'\n",
        "print(result)"
      ]
    },
    {
      "cell_type": "code",
      "execution_count": 8,
      "metadata": {},
      "outputs": [
        {
          "name": "stdout",
          "output_type": "stream",
          "text": [
            "[5 7 9] [-3 -3 -3] [ 4 10 18] [0.25 0.4  0.5 ] [1 4 9]\n"
          ]
        }
      ],
      "source": [
        "a = np.array([1, 2, 3])\n",
        "b = np.array([4, 5, 6])\n",
        "\n",
        "c = a + b    # Element-wise addition\n",
        "d = a - b    # Element-wise subtraction\n",
        "e = a * b    # Element-wise multiplication\n",
        "f = a / b    # Element-wise division\n",
        "g = a ** 2   # Element-wise exponentiation\n",
        "\n",
        "print(c,d,e,f,g)"
      ]
    },
    {
      "cell_type": "code",
      "execution_count": 9,
      "metadata": {
        "colab": {
          "base_uri": "https://localhost:8080/"
        },
        "id": "53rS0ERyODk8",
        "outputId": "0293981e-c733-482d-e245-8eed27ee83b1"
      },
      "outputs": [
        {
          "data": {
            "text/plain": [
              "array([0., 2., 1., 3., 2., 5.])"
            ]
          },
          "execution_count": 9,
          "metadata": {},
          "output_type": "execute_result"
        }
      ],
      "source": [
        "a = np.array([1,100,10,1000,100,100000])\n",
        "b = np.log10(a) #log to base 10\n",
        "b"
      ]
    },
    {
      "cell_type": "code",
      "execution_count": 10,
      "metadata": {},
      "outputs": [
        {
          "name": "stdout",
          "output_type": "stream",
          "text": [
            "[  0   1   4   9  16  25  36  49  64  81 100 121]\n",
            "[ 1  9 64 25]\n"
          ]
        }
      ],
      "source": [
        "a = np.arange(12)**2 # the first 12 square numbers\n",
        "print(a)\n",
        "i = np.array([1, 3, 8, 5])  # an array of indices\n",
        "print(a[i])  # the elements of `a` at the positions `i`"
      ]
    },
    {
      "cell_type": "code",
      "execution_count": 11,
      "metadata": {
        "colab": {
          "base_uri": "https://localhost:8080/"
        },
        "id": "aMGR6gCQODk9",
        "outputId": "cf493107-449b-4d26-ab23-4ccbfd4c687b"
      },
      "outputs": [
        {
          "name": "stdout",
          "output_type": "stream",
          "text": [
            "[0. 1. 2. 3.]\n"
          ]
        }
      ],
      "source": [
        "x = np.array([1, np.e , np.e**2 , np.e**3])\n",
        "print(np.log(x)) #log finding"
      ]
    },
    {
      "cell_type": "code",
      "execution_count": 12,
      "metadata": {},
      "outputs": [
        {
          "data": {
            "text/plain": [
              "array([1, 1, 3, 3, 4])"
            ]
          },
          "execution_count": 12,
          "metadata": {},
          "output_type": "execute_result"
        }
      ],
      "source": [
        "a = np.arange(5)\n",
        "a[[0, 0, 2]] += 1\n",
        "a"
      ]
    },
    {
      "cell_type": "code",
      "execution_count": 13,
      "metadata": {
        "colab": {
          "base_uri": "https://localhost:8080/"
        },
        "id": "TM56WH5EODk9",
        "outputId": "3b641d4f-1529-489c-ab58-66851f86351d"
      },
      "outputs": [
        {
          "data": {
            "text/plain": [
              "array([0.2, 0.4, 0.6])"
            ]
          },
          "execution_count": 13,
          "metadata": {},
          "output_type": "execute_result"
        }
      ],
      "source": [
        "# f(x) = x + c , find using numpy in case of [1,2,3] and c = 5\n",
        "\n",
        "x = np.array([1,2,3])\n",
        "c = 5\n",
        "x/c # x is a vector , c is a scalar *elemnt wise"
      ]
    },
    {
      "cell_type": "code",
      "execution_count": 14,
      "metadata": {
        "colab": {
          "base_uri": "https://localhost:8080/"
        },
        "id": "UodpwJ__ODk9",
        "outputId": "db5cd7a5-ffa6-4e2c-c819-96face9e9e5f"
      },
      "outputs": [
        {
          "data": {
            "text/plain": [
              "array([-7, -2,  3,  8])"
            ]
          },
          "execution_count": 14,
          "metadata": {},
          "output_type": "execute_result"
        }
      ],
      "source": [
        "# f(x) = 5x - 2 , x = [-1,0,1,2]\n",
        "x = np.array([-1,0,1,2])\n",
        "(5*x)-2"
      ]
    },
    {
      "cell_type": "code",
      "execution_count": 15,
      "metadata": {
        "colab": {
          "base_uri": "https://localhost:8080/"
        },
        "id": "dUJv1MeCODk-",
        "outputId": "a6d37a36-d72b-4430-e6fb-3181629330d9"
      },
      "outputs": [
        {
          "name": "stdout",
          "output_type": "stream",
          "text": [
            "-60\n"
          ]
        }
      ],
      "source": [
        "x = np.array([1,2,3,4])\n",
        "y = np.array([-4,-5,-6,-7])\n",
        "z = np.dot(x,y)\n",
        "print(z)\n",
        "# print(x@y) #another dot prod method,same as np.dot(x,y)"
      ]
    },
    {
      "cell_type": "code",
      "execution_count": 16,
      "metadata": {
        "colab": {
          "base_uri": "https://localhost:8080/"
        },
        "id": "BRz3Yw55ODk-",
        "outputId": "75389722-17c5-478e-c99a-ef97d54581ee"
      },
      "outputs": [
        {
          "data": {
            "text/plain": [
              "(array([0., 0., 0., 0., 0.]),\n",
              " array([1., 1., 1., 1., 1.]),\n",
              " array([0., 0., 0., 0., 0.]))"
            ]
          },
          "execution_count": 16,
          "metadata": {},
          "output_type": "execute_result"
        }
      ],
      "source": [
        "#np arrays of zeros and ones\n",
        "x = np.zeros(5)\n",
        "y = np.ones(5)\n",
        "z = np.zeros(5)*np.ones(5)\n",
        "x,y,z"
      ]
    },
    {
      "cell_type": "code",
      "execution_count": 17,
      "metadata": {
        "colab": {
          "base_uri": "https://localhost:8080/"
        },
        "id": "GzvzTJZcODk-",
        "outputId": "e7ff51b4-2c97-4e7c-ec1b-5da64d74607f"
      },
      "outputs": [
        {
          "data": {
            "text/plain": [
              "array([9.8, 9.8, 9.8, 9.8, 9.8])"
            ]
          },
          "execution_count": 17,
          "metadata": {},
          "output_type": "execute_result"
        }
      ],
      "source": [
        "np.ones(5)*9.8"
      ]
    },
    {
      "cell_type": "code",
      "execution_count": 18,
      "metadata": {
        "colab": {
          "base_uri": "https://localhost:8080/"
        },
        "id": "hql-sabkODk-",
        "outputId": "fe648773-7fab-4da2-9075-95538e6bb0df"
      },
      "outputs": [
        {
          "data": {
            "text/plain": [
              "[1, 2, 3, 4, 5]"
            ]
          },
          "execution_count": 18,
          "metadata": {},
          "output_type": "execute_result"
        }
      ],
      "source": [
        "list(range(1,6))"
      ]
    },
    {
      "cell_type": "code",
      "execution_count": 19,
      "metadata": {
        "colab": {
          "base_uri": "https://localhost:8080/"
        },
        "id": "bVaHHDSwODk-",
        "outputId": "14a98ad5-69be-4652-e03e-8c65bbd43842"
      },
      "outputs": [
        {
          "data": {
            "text/plain": [
              "array([1, 2, 3, 4, 5])"
            ]
          },
          "execution_count": 19,
          "metadata": {},
          "output_type": "execute_result"
        }
      ],
      "source": [
        "np.array(list(range(1,6))) #type casting to np.array"
      ]
    },
    {
      "cell_type": "code",
      "execution_count": 20,
      "metadata": {
        "colab": {
          "base_uri": "https://localhost:8080/"
        },
        "id": "jclj4NjfODk_",
        "outputId": "94dd88b4-edd1-4d92-cf4c-15924cb706be"
      },
      "outputs": [
        {
          "data": {
            "text/plain": [
              "array([1, 2, 3, 4, 5])"
            ]
          },
          "execution_count": 20,
          "metadata": {},
          "output_type": "execute_result"
        }
      ],
      "source": [
        "np.arange(1,6) # np.arange = (a) range function for np arrays"
      ]
    },
    {
      "cell_type": "code",
      "execution_count": 21,
      "metadata": {
        "colab": {
          "base_uri": "https://localhost:8080/"
        },
        "id": "GAG0BFtkODk_",
        "outputId": "fedbc52c-e24f-44b1-b154-c205605d4f6b"
      },
      "outputs": [
        {
          "data": {
            "text/plain": [
              "3.7416573867739413"
            ]
          },
          "execution_count": 21,
          "metadata": {},
          "output_type": "execute_result"
        }
      ],
      "source": [
        "# whole root of (1*1,2*2,3*3) = root(14)\n",
        "x = np.array([1,2,3])\n",
        "(sum(x*x))**0.5# returned root of sum of square rooted array\n",
        "#normal method"
      ]
    },
    {
      "cell_type": "code",
      "execution_count": 22,
      "metadata": {
        "colab": {
          "base_uri": "https://localhost:8080/"
        },
        "id": "4G4PWS7xODk_",
        "outputId": "c3c5cd39-3127-47eb-e3fa-71f636bd2ca5"
      },
      "outputs": [
        {
          "name": "stdout",
          "output_type": "stream",
          "text": [
            "3.7416573867739413\n",
            "14.0\n"
          ]
        }
      ],
      "source": [
        "print(np.linalg.norm(x)) #numpy method\n",
        "print(3.7416573867739413*3.7416573867739413)#crosschecking this mfx"
      ]
    },
    {
      "cell_type": "code",
      "execution_count": 23,
      "metadata": {
        "colab": {
          "base_uri": "https://localhost:8080/"
        },
        "id": "ce5oyEs9ODk_",
        "outputId": "24234235-42db-44fb-95ee-3482e3930b18"
      },
      "outputs": [
        {
          "name": "stdout",
          "output_type": "stream",
          "text": [
            "[1, 2]\n"
          ]
        },
        {
          "data": {
            "text/plain": [
              "1"
            ]
          },
          "execution_count": 23,
          "metadata": {},
          "output_type": "execute_result"
        }
      ],
      "source": [
        "x = [1,2]\n",
        "print(x)\n",
        "np.ndim(x)"
      ]
    },
    {
      "cell_type": "code",
      "execution_count": 24,
      "metadata": {
        "colab": {
          "base_uri": "https://localhost:8080/"
        },
        "id": "A0AjP0G8ODlA",
        "outputId": "b61b61f0-3b3c-4b61-a60a-b545c6170ac4"
      },
      "outputs": [
        {
          "name": "stdout",
          "output_type": "stream",
          "text": [
            "([[1, 2]], [[1, 2]])\n"
          ]
        },
        {
          "data": {
            "text/plain": [
              "3"
            ]
          },
          "execution_count": 24,
          "metadata": {},
          "output_type": "execute_result"
        }
      ],
      "source": [
        "x = [[1,2]],[[1,2]]\n",
        "print(x)\n",
        "np.ndim(x)"
      ]
    },
    {
      "cell_type": "code",
      "execution_count": 25,
      "metadata": {
        "colab": {
          "base_uri": "https://localhost:8080/"
        },
        "id": "bHdEFNObODlA",
        "outputId": "513796e2-d5fb-4b22-9d9e-79d98f4ad12a"
      },
      "outputs": [
        {
          "name": "stdout",
          "output_type": "stream",
          "text": [
            "[[[]]]\n"
          ]
        },
        {
          "data": {
            "text/plain": [
              "3"
            ]
          },
          "execution_count": 25,
          "metadata": {},
          "output_type": "execute_result"
        }
      ],
      "source": [
        "x = [[[]]]\n",
        "print(x)\n",
        "np.ndim(x)"
      ]
    },
    {
      "cell_type": "code",
      "execution_count": 26,
      "metadata": {
        "colab": {
          "base_uri": "https://localhost:8080/"
        },
        "id": "8BNikbqyRYs8",
        "outputId": "1a06d9e7-4f4e-43a6-a2f6-431f666453a6"
      },
      "outputs": [
        {
          "data": {
            "text/plain": [
              "array([1, 2, 3, 4])"
            ]
          },
          "execution_count": 26,
          "metadata": {},
          "output_type": "execute_result"
        }
      ],
      "source": [
        "a = np.array([1,2,3,4,5,6,7,7])\n",
        "a[0:4] #1-d array slicing"
      ]
    },
    {
      "cell_type": "code",
      "execution_count": 27,
      "metadata": {
        "colab": {
          "base_uri": "https://localhost:8080/"
        },
        "id": "3VdtVZgtVmJ8",
        "outputId": "3d5d21cd-cd32-4641-9f35-101e78974ceb"
      },
      "outputs": [
        {
          "data": {
            "text/plain": [
              "array([2984, 4985], dtype=int64)"
            ]
          },
          "execution_count": 27,
          "metadata": {},
          "output_type": "execute_result"
        }
      ],
      "source": [
        "b = np.array([[65,5446,5475,4389,435],\n",
        "              [4986,2984,4985,65651946194,2544]])\n",
        "b[1,1:3] #adavdhu 2nd array choose panni , adhula sllicing pandrom"
      ]
    },
    {
      "cell_type": "code",
      "execution_count": 28,
      "metadata": {
        "colab": {
          "base_uri": "https://localhost:8080/"
        },
        "id": "pSO12NZrV5dD",
        "outputId": "3f99fc38-4348-47d1-85a0-52a9219fa3a5"
      },
      "outputs": [
        {
          "data": {
            "text/plain": [
              "array([5446, 4389], dtype=int64)"
            ]
          },
          "execution_count": 28,
          "metadata": {},
          "output_type": "execute_result"
        }
      ],
      "source": [
        "b[0,1::2] # 1st elemnt la irundhu last vera with two steps each"
      ]
    },
    {
      "cell_type": "code",
      "execution_count": 29,
      "metadata": {},
      "outputs": [
        {
          "data": {
            "text/plain": [
              "array([[         65,        5446,        5475,        4389,         435],\n",
              "       [       4986,        2984,        4985, 65651946194,        2544]],\n",
              "      dtype=int64)"
            ]
          },
          "execution_count": 29,
          "metadata": {},
          "output_type": "execute_result"
        }
      ],
      "source": [
        "b"
      ]
    },
    {
      "cell_type": "code",
      "execution_count": 30,
      "metadata": {
        "colab": {
          "base_uri": "https://localhost:8080/"
        },
        "id": "YBEDr74kXD9O",
        "outputId": "fb33e3f4-1fb0-4469-f20b-96672460ccc2"
      },
      "outputs": [
        {
          "data": {
            "text/plain": [
              "array([[         65,         435,        4389,        5446,        5475],\n",
              "       [       2544,        2984,        4985,        4986, 65651946194]],\n",
              "      dtype=int64)"
            ]
          },
          "execution_count": 30,
          "metadata": {},
          "output_type": "execute_result"
        }
      ],
      "source": [
        "np.sort(b) #sorting whole elemnts , it doesnt care abt dimnsions"
      ]
    },
    {
      "cell_type": "code",
      "execution_count": 31,
      "metadata": {
        "colab": {
          "base_uri": "https://localhost:8080/"
        },
        "id": "F6UL7ZdaYRi2",
        "outputId": "46513fcc-15bf-4ab1-b7bc-25bec08225c3"
      },
      "outputs": [
        {
          "data": {
            "text/plain": [
              "array([[         65,         435,        4389,        5446,        5475],\n",
              "       [       2544,        2984,        4985,        4986, 65651946194]],\n",
              "      dtype=int64)"
            ]
          },
          "execution_count": 31,
          "metadata": {},
          "output_type": "execute_result"
        }
      ],
      "source": [
        "c = np.sort(b)\n",
        "c"
      ]
    },
    {
      "cell_type": "code",
      "execution_count": 32,
      "metadata": {
        "colab": {
          "base_uri": "https://localhost:8080/"
        },
        "id": "AGD9fOnzZlME",
        "outputId": "41307d76-985f-4f6c-bce1-8c8ddefa2263"
      },
      "outputs": [
        {
          "data": {
            "text/plain": [
              "array([65651946194,        4986,        4985,        2984,        2544],\n",
              "      dtype=int64)"
            ]
          },
          "execution_count": 32,
          "metadata": {},
          "output_type": "execute_result"
        }
      ],
      "source": [
        "c[1,::-1] #sort in reverse"
      ]
    },
    {
      "cell_type": "code",
      "execution_count": 33,
      "metadata": {},
      "outputs": [
        {
          "data": {
            "text/plain": [
              "array([[         65,        5446,        5475,        4389,         435],\n",
              "       [       4986,        2984,        4985, 65651946194,        2544]],\n",
              "      dtype=int64)"
            ]
          },
          "execution_count": 33,
          "metadata": {},
          "output_type": "execute_result"
        }
      ],
      "source": [
        "b"
      ]
    },
    {
      "cell_type": "code",
      "execution_count": 34,
      "metadata": {
        "colab": {
          "base_uri": "https://localhost:8080/"
        },
        "id": "6kvTZxlxZXWV",
        "outputId": "3ff182cc-0320-436b-c89d-87ab18612db1"
      },
      "outputs": [
        {
          "data": {
            "text/plain": [
              "array([[         65,        5446],\n",
              "       [       5475,        4389],\n",
              "       [        435,        4986],\n",
              "       [       2984,        4985],\n",
              "       [65651946194,        2544]], dtype=int64)"
            ]
          },
          "execution_count": 34,
          "metadata": {},
          "output_type": "execute_result"
        }
      ],
      "source": [
        "c = b.reshape(5,2)\n",
        "c"
      ]
    },
    {
      "cell_type": "code",
      "execution_count": 35,
      "metadata": {},
      "outputs": [
        {
          "data": {
            "text/plain": [
              "array([[ 9,  4,  2,  4,  5,  6,  8],\n",
              "       [34,  6,  7,  4,  7, 44,  7]])"
            ]
          },
          "execution_count": 35,
          "metadata": {},
          "output_type": "execute_result"
        }
      ],
      "source": [
        "c = np.array([[9,4,2,4,5,6,8,],[34,6,7,4,7,44,7]])\n",
        "c"
      ]
    },
    {
      "cell_type": "code",
      "execution_count": 36,
      "metadata": {},
      "outputs": [
        {
          "name": "stderr",
          "output_type": "stream",
          "text": [
            "C:\\Users\\Ranil\\AppData\\Local\\Temp\\ipykernel_19852\\2782417877.py:2: VisibleDeprecationWarning: Creating an ndarray from ragged nested sequences (which is a list-or-tuple of lists-or-tuples-or ndarrays with different lengths or shapes) is deprecated. If you meant to do this, you must specify 'dtype=object' when creating the ndarray.\n",
            "  c = np.array(c)\n"
          ]
        },
        {
          "data": {
            "text/plain": [
              "array([list([0, 1, 2, 3, 4, 5, 6, 7, 8, 9]),\n",
              "       list([11, 12, 13, 14, 15, 16, 17, 18, 19])], dtype=object)"
            ]
          },
          "execution_count": 36,
          "metadata": {},
          "output_type": "execute_result"
        }
      ],
      "source": [
        "c = [[x for x in range(10)],[y for y in range(11,20)]]\n",
        "c = np.array(c)\n",
        "c"
      ]
    },
    {
      "cell_type": "code",
      "execution_count": 37,
      "metadata": {},
      "outputs": [
        {
          "data": {
            "text/plain": [
              "array([list([0, 1, 2, 3, 4, 5, 6, 7, 8, 9]),\n",
              "       list([11, 12, 13, 14, 15, 16, 17, 18, 19])], dtype=object)"
            ]
          },
          "execution_count": 37,
          "metadata": {},
          "output_type": "execute_result"
        }
      ],
      "source": [
        "np.sort(c,axis = 0)"
      ]
    },
    {
      "cell_type": "code",
      "execution_count": 38,
      "metadata": {
        "colab": {
          "base_uri": "https://localhost:8080/"
        },
        "id": "0C-E-01Sb7h6",
        "outputId": "d57994c5-8b3c-425d-876d-c62619476e6a"
      },
      "outputs": [
        {
          "name": "stdout",
          "output_type": "stream",
          "text": [
            "[list([0, 1, 2, 3, 4, 5, 6, 7, 8, 9])\n",
            " list([11, 12, 13, 14, 15, 16, 17, 18, 19])]\n"
          ]
        }
      ],
      "source": [
        "print(np.sort(c,axis = 0,kind = 'quick')) #just sorting the columns with quicksort algorithm\n",
        "\n",
        "# kind is keyword to import the sort method\n",
        "#it can do normal sorting also  , wea re just choosing but"
      ]
    },
    {
      "cell_type": "code",
      "execution_count": 39,
      "metadata": {},
      "outputs": [
        {
          "name": "stdout",
          "output_type": "stream",
          "text": [
            "[[ 1 12]\n",
            " [ 2 22]\n",
            " [ 3 33]\n",
            " [ 4 44]\n",
            " [ 5 55]\n",
            " [ 6 66]\n",
            " [ 7 77]]\n"
          ]
        }
      ],
      "source": [
        "a = np.array([[1,2,3,4,5,6,7],[12,22,33,44,55,66,77]])\n",
        "a = a.transpose()\n",
        "print(a)"
      ]
    },
    {
      "cell_type": "code",
      "execution_count": 40,
      "metadata": {},
      "outputs": [
        {
          "data": {
            "text/plain": [
              "array([['t', 'h', 'a', 'r', 'u'],\n",
              "       ['n', 'i', 'k', 'a', 'a']], dtype='<U1')"
            ]
          },
          "execution_count": 40,
          "metadata": {},
          "output_type": "execute_result"
        }
      ],
      "source": [
        "eg = np.array(['t','h','a','r','u','n','i','k','a','a']) #list of strings and conactenated by ndarr dtype\n",
        "eg\n",
        "type(eg)\n",
        "np.reshape(eg,(2,5)) #reshaping your name in array into rows and columns"
      ]
    },
    {
      "cell_type": "code",
      "execution_count": 41,
      "metadata": {},
      "outputs": [
        {
          "name": "stdout",
          "output_type": "stream",
          "text": [
            "the eigen values are [-0.37228132  5.37228132]\n",
            "the eigen vectors are [[-0.82456484 -0.41597356]\n",
            " [ 0.56576746 -0.90937671]]\n"
          ]
        }
      ],
      "source": [
        "a = np.array([[1, 2], [3, 4]])\n",
        "b = np.array([[5, 6], [7, 8]])\n",
        "\n",
        "mat_mul = np.dot(a, b)               # Matrix multiplication\n",
        "mat_inv = np.linalg.inv(a)           # Matrix inversion\n",
        "eigenvalues, eigenvectors = np.linalg.eig(a)  # Eigenvalues and eigenvectors\n",
        "print(f\"the eigen values are {eigenvalues}\")\n",
        "print(f\"the eigen vectors are {eigenvectors}\")"
      ]
    },
    {
      "cell_type": "code",
      "execution_count": 42,
      "metadata": {},
      "outputs": [
        {
          "name": "stdout",
          "output_type": "stream",
          "text": [
            "[[16 91 74]\n",
            " [15 87 67]\n",
            " [76 25 36]]\n"
          ]
        }
      ],
      "source": [
        "random_array = np.random.randint(1, 100, size=(3, 3))\n",
        "print(random_array) #random integer from 1-100 and putting it in nd array"
      ]
    },
    {
      "cell_type": "code",
      "execution_count": 43,
      "metadata": {},
      "outputs": [
        {
          "name": "stdout",
          "output_type": "stream",
          "text": [
            "Tuple array: [ 6, 7, 8, 9,10]\n"
          ]
        }
      ],
      "source": [
        "tuple_values = (6,7,8,9,10)\n",
        "tuple_array = np.array(tuple_values)\n",
        "print(\"Tuple array:\", np.array2string(tuple_array, separator=\",\"))"
      ]
    },
    {
      "cell_type": "code",
      "execution_count": 44,
      "metadata": {},
      "outputs": [
        {
          "name": "stdout",
          "output_type": "stream",
          "text": [
            "[1 2 3 4 5]\n"
          ]
        }
      ],
      "source": [
        "import numpy as np\n",
        "a = (1,2,3,4,5)\n",
        "b = np.array(a)\n",
        "c = np.array2string(b, separator= \",\" )\n",
        "print(b)"
      ]
    },
    {
      "cell_type": "code",
      "execution_count": 45,
      "metadata": {},
      "outputs": [
        {
          "name": "stdout",
          "output_type": "stream",
          "text": [
            "9.539392014169456\n"
          ]
        }
      ],
      "source": [
        "xd = np.array([1,2,3,4,5,6])\n",
        "bbbc = np.linalg.norm(xd)\n",
        "print(bbbc)"
      ]
    },
    {
      "cell_type": "code",
      "execution_count": 46,
      "metadata": {},
      "outputs": [
        {
          "name": "stdout",
          "output_type": "stream",
          "text": [
            "[[[ 1  2  3]\n",
            "  [ 4  5  6]]\n",
            "\n",
            " [[ 7  8  9]\n",
            "  [10 11 12]]]\n"
          ]
        }
      ],
      "source": [
        "import numpy as np\n",
        "\n",
        "arr = np.array([1, 2, 3, 4, 5, 6, 7, 8, 9, 10, 11, 12])\n",
        "\n",
        "newarr = arr.reshape(2, 2, 3) #no.of dim , rows , col\n",
        "\n",
        "print(newarr)"
      ]
    },
    {
      "cell_type": "code",
      "execution_count": 47,
      "metadata": {},
      "outputs": [],
      "source": [
        "import matplotlib.pyplot as plt"
      ]
    },
    {
      "cell_type": "code",
      "execution_count": 48,
      "metadata": {},
      "outputs": [
        {
          "data": {
            "text/plain": [
              "[<matplotlib.lines.Line2D at 0x1ab310cd390>]"
            ]
          },
          "execution_count": 48,
          "metadata": {},
          "output_type": "execute_result"
        },
        {
          "data": {
            "image/png": "[encoded data removed]",
            "text/plain": [
              "<Figure size 640x480 with 1 Axes>"
            ]
          },
          "metadata": {},
          "output_type": "display_data"
        }
      ],
      "source": [
        "x = np.linspace(0,10,20)\n",
        "y = x**2\n",
        "plt.scatter(x,y)\n",
        "plt.plot(x,y)"
      ]
    },
    {
      "cell_type": "code",
      "execution_count": 49,
      "metadata": {},
      "outputs": [
        {
          "name": "stdout",
          "output_type": "stream",
          "text": [
            "[[2 3 4]\n",
            " [7 8 9]]\n"
          ]
        }
      ],
      "source": [
        "import numpy as np\n",
        "\n",
        "arr = np.array([[1, 2, 3, 4, 5], [6, 7, 8, 9, 10]])\n",
        "\n",
        "print(arr[0:2, 1:4])"
      ]
    },
    {
      "cell_type": "markdown",
      "metadata": {},
      "source": [
        "NumPy question\n",
        "\n",
        "Consider the following NumPy array:\n",
        "\n",
        "```python\n",
        "import numpy as np\n",
        "\n",
        "arr = np.array([[1, 2, 3, 4, 5],\n",
        "                [6, 7, 8, 9, 10],\n",
        "                [11, 12, 13, 14, 15],\n",
        "                [16, 17, 18, 19, 20]])\n",
        "```\n",
        "\n",
        "Now, your task is to create a new array that contains all the elements of `arr` in a spiral order, starting from the top-left corner and moving clockwise. The expected output for this example should be:\n",
        "\n",
        "```\n",
        "[ 1  2  3  4  5 10 15 20 19 18 17 16 11  6  7  8  9 14 13 12]\n",
        "```\n",
        "\n",
        "Write a function  that takes in this array `arr` as input and returns the elements in the desired spiral order."
      ]
    },
    {
      "cell_type": "code",
      "execution_count": 50,
      "metadata": {},
      "outputs": [],
      "source": [
        "import numpy as np\n",
        "\n",
        "def baby(arr):\n",
        "    result = []\n",
        "    while arr.size > 0:\n",
        "        # move from left to right\n",
        "        result.extend(arr[0])\n",
        "\n",
        "        # remove the first row\n",
        "        arr = arr[1:]\n",
        "\n",
        "        # rotate the remaining array 90 degrees clockwise\n",
        "        arr = np.rot90(arr)\n",
        "\n",
        "    return np.array(result)"
      ]
    },
    {
      "cell_type": "code",
      "execution_count": 51,
      "metadata": {},
      "outputs": [
        {
          "name": "stdout",
          "output_type": "stream",
          "text": [
            "[ 1  2  3  4  5 10 15 20 19 18 17 16 11  6  7  8  9 14 13 12]\n"
          ]
        }
      ],
      "source": [
        "arr = np.array([[1, 2, 3, 4, 5],\n",
        "                [6, 7, 8, 9, 10],\n",
        "                [11, 12, 13, 14, 15],\n",
        "                [16, 17, 18, 19, 20]])\n",
        "\n",
        "print(baby(arr))"
      ]
    }
  ],
  "metadata": {
    "colab": {
      "gpuType": "T4",
      "provenance": []
    },
    "gpuClass": "standard",
    "kernelspec": {
      "display_name": "Python 3",
      "language": "python",
      "name": "python3"
    },
    "language_info": {
      "codemirror_mode": {
        "name": "ipython",
        "version": 3
      },
      "file_extension": ".py",
      "mimetype": "text/x-python",
      "name": "python",
      "nbconvert_exporter": "python",
      "pygments_lexer": "ipython3",
      "version": "3.10.11"
    },
    "orig_nbformat": 4
  },
  "nbformat": 4,
  "nbformat_minor": 0
}
